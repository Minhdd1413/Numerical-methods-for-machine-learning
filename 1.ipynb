{
 "cells": [
  {
   "cell_type": "code",
   "execution_count": 5,
   "metadata": {},
   "outputs": [
    {
     "name": "stdout",
     "output_type": "stream",
     "text": [
      "Cực tiểu của hàm số là tại điểm: [4 4]\n"
     ]
    }
   ],
   "source": [
    "import numpy as np\n",
    "\n",
    "def gradient_descent(gradient, start, learn_rate, n_iter=10, tolerance=1e-06):\n",
    "    vector = start\n",
    "    for _ in range(n_iter):\n",
    "        diff = -learn_rate * gradient(vector)\n",
    "        if np.all(np.abs(diff) <= tolerance):\n",
    "            break\n",
    "        vector += diff.astype(vector.dtype)  # Explicitly convert diff to the same data type as vector\n",
    "    return vector\n",
    "\n",
    "# Ví dụ với hàm f(x, y) = x^2 + y^2\n",
    "gradient = lambda v: 2 * v  # Gradient của hàm số\n",
    "start = np.array([5, 5])  # Điểm bắt đầu\n",
    "learn_rate = 0.1  # Learning rate\n",
    "\n",
    "minimum = gradient_descent(gradient, start, learn_rate)\n",
    "print(\"Cực tiểu của hàm số là tại điểm:\", minimum)"
   ]
  },
  {
   "cell_type": "code",
   "execution_count": 6,
   "metadata": {},
   "outputs": [],
   "source": [
    "import numpy as np\n",
    "\n",
    "def simulated_annealing(energy_func, initial_state, temp, reanneal, maxsteps=1000):\n",
    "    state = initial_state\n",
    "    scale = np.sqrt(temp)\n",
    "    for step in range(maxsteps):\n",
    "        fraction = step / float(maxsteps)\n",
    "        T = temp * np.exp(-fraction)\n",
    "        new_state = state + scale * np.random.standard_normal(state.shape)\n",
    "        new_energy = energy_func(new_state)\n",
    "        old_energy = energy_func(state)\n",
    "        if np.random.rand() < np.exp((old_energy - new_energy) / T):\n",
    "            state, old_energy = new_state, new_energy\n",
    "        if step % reanneal == 0:\n",
    "            scale = np.sqrt(T)\n",
    "    return state"
   ]
  },
  {
   "cell_type": "code",
   "execution_count": 7,
   "metadata": {},
   "outputs": [
    {
     "name": "stdout",
     "output_type": "stream",
     "text": [
      "(90, [1, 0, 1])\n"
     ]
    }
   ],
   "source": [
    "from pyeasyga import pyeasyga\n",
    "\n",
    "# setup data\n",
    "data = [('pear', 50), ('apple', 35), ('banana', 40)]\n",
    "\n",
    "ga = pyeasyga.GeneticAlgorithm(data)        # initialise the GA with data\n",
    "ga.population_size = 200                    # increase population size to 200 (default value is 50)\n",
    "\n",
    "# define a fitness function\n",
    "def fitness(individual, data):\n",
    "    fitness = 0\n",
    "    if individual.count(1) == 2:\n",
    "        for (selected, (fruit, profit)) in zip(individual, data):\n",
    "            if selected:\n",
    "                fitness += profit\n",
    "    return fitness\n",
    "\n",
    "ga.fitness_function = fitness               # set the GA's fitness function\n",
    "ga.run()                                    # run the GA\n",
    "print(ga.best_individual())                 # print the GA's best solution"
   ]
  },
  {
   "cell_type": "code",
   "execution_count": 8,
   "metadata": {},
   "outputs": [
    {
     "name": "stdout",
     "output_type": "stream",
     "text": [
      "Stopping search: Swarm best objective change less than 1e-08\n"
     ]
    }
   ],
   "source": [
    "from pyswarm import pso\n",
    "\n",
    "# Define the objective (to be minimized)\n",
    "def weight(x, *args):\n",
    "    H, d, t = x\n",
    "    B, rho, E, P = args\n",
    "    return rho*2*np.pi*d*t*np.sqrt((B/2)**2 + H**2)\n",
    "\n",
    "# Setup the constraint functions\n",
    "def yield_stress(x, *args):\n",
    "    H, d, t = x\n",
    "    B, rho, E, P = args\n",
    "    R = np.sqrt((B/2)**2 + H**2)\n",
    "    return (P*R)/(2*t*np.pi*R*d)\n",
    "\n",
    "def buckling_stress(x, *args):\n",
    "    H, d, t = x\n",
    "    B, rho, E, P = args\n",
    "    R = np.sqrt((B/2)**2 + H**2)\n",
    "    return (np.pi**2*E*(d**2 + t**2))/(8*(R**2))\n",
    "\n",
    "def constraints(x, *args):\n",
    "    strs = yield_stress(x, *args)\n",
    "    buck = buckling_stress(x, *args)\n",
    "    return [200 - strs, buck - strs]\n",
    "\n",
    "# Define the other parameters\n",
    "B = 60  # inches\n",
    "rho = 0.3  # lb/in^3\n",
    "E = 30000  # kpsi (1000-psi)\n",
    "P = 66  # kip (1000-lbs, force)\n",
    "args = (B, rho, E, P)\n",
    "\n",
    "# Define the lower and upper bounds for H, d, t, respectively\n",
    "lb = [10, 1, 0.01]\n",
    "ub = [30, 3, 0.25]\n",
    "\n",
    "xopt, fopt = pso(weight, lb, ub, f_ieqcons=constraints, args=args)"
   ]
  },
  {
   "cell_type": "code",
   "execution_count": 5,
   "metadata": {},
   "outputs": [
    {
     "name": "stderr",
     "output_type": "stream",
     "text": [
      "c:\\Users\\karin\\AppData\\Local\\Programs\\Python\\Python39\\lib\\site-packages\\cvxpy\\expressions\\expression.py:621: UserWarning: \n",
      "This use of ``*`` has resulted in matrix multiplication.\n",
      "Using ``*`` for matrix multiplication has been deprecated since CVXPY 1.1.\n",
      "    Use ``*`` for matrix-scalar and vector-scalar multiplication.\n",
      "    Use ``@`` for matrix-matrix and matrix-vector multiplication.\n",
      "    Use ``multiply`` for elementwise multiplication.\n",
      "This code path has been hit 1 times so far.\n",
      "\n",
      "  warnings.warn(msg, UserWarning)\n"
     ]
    },
    {
     "ename": "ValueError",
     "evalue": "Incompatible dimensions (1, 20) (30, 20)",
     "output_type": "error",
     "traceback": [
      "\u001b[1;31m---------------------------------------------------------------------------\u001b[0m",
      "\u001b[1;31mValueError\u001b[0m                                Traceback (most recent call last)",
      "Cell \u001b[1;32mIn[5], line 1\u001b[0m\n\u001b[1;32m----> 1\u001b[0m f \u001b[38;5;241m=\u001b[39m \u001b[43mx\u001b[49m\u001b[38;5;241;43m.\u001b[39;49m\u001b[43mT\u001b[49m\u001b[38;5;241;43m*\u001b[39;49m\u001b[43mA\u001b[49m\u001b[38;5;241m*\u001b[39mx \u001b[38;5;241m+\u001b[39m b\u001b[38;5;241m.\u001b[39mT\u001b[38;5;241m*\u001b[39mx \u001b[38;5;241m+\u001b[39m c\n",
      "File \u001b[1;32mc:\\Users\\karin\\AppData\\Local\\Programs\\Python\\Python39\\lib\\site-packages\\cvxpy\\expressions\\expression.py:50\u001b[0m, in \u001b[0;36m_cast_other.<locals>.cast_op\u001b[1;34m(self, other)\u001b[0m\n\u001b[0;32m     47\u001b[0m \u001b[38;5;250m\u001b[39m\u001b[38;5;124;03m\"\"\"A wrapped binary operator that can handle non-Expression arguments.\u001b[39;00m\n\u001b[0;32m     48\u001b[0m \u001b[38;5;124;03m\"\"\"\u001b[39;00m\n\u001b[0;32m     49\u001b[0m other \u001b[38;5;241m=\u001b[39m \u001b[38;5;28mself\u001b[39m\u001b[38;5;241m.\u001b[39mcast_to_const(other)\n\u001b[1;32m---> 50\u001b[0m \u001b[38;5;28;01mreturn\u001b[39;00m \u001b[43mbinary_op\u001b[49m\u001b[43m(\u001b[49m\u001b[38;5;28;43mself\u001b[39;49m\u001b[43m,\u001b[49m\u001b[43m \u001b[49m\u001b[43mother\u001b[49m\u001b[43m)\u001b[49m\n",
      "File \u001b[1;32mc:\\Users\\karin\\AppData\\Local\\Programs\\Python\\Python39\\lib\\site-packages\\cvxpy\\expressions\\expression.py:624\u001b[0m, in \u001b[0;36mExpression.__mul__\u001b[1;34m(self, other)\u001b[0m\n\u001b[0;32m    622\u001b[0m     warnings\u001b[38;5;241m.\u001b[39mwarn(msg, \u001b[38;5;167;01mDeprecationWarning\u001b[39;00m)\n\u001b[0;32m    623\u001b[0m     __STAR_MATMUL_COUNT__ \u001b[38;5;241m+\u001b[39m\u001b[38;5;241m=\u001b[39m \u001b[38;5;241m1\u001b[39m\n\u001b[1;32m--> 624\u001b[0m \u001b[38;5;28;01mreturn\u001b[39;00m \u001b[43mcvxtypes\u001b[49m\u001b[38;5;241;43m.\u001b[39;49m\u001b[43mmatmul_expr\u001b[49m\u001b[43m(\u001b[49m\u001b[43m)\u001b[49m\u001b[43m(\u001b[49m\u001b[38;5;28;43mself\u001b[39;49m\u001b[43m,\u001b[49m\u001b[43m \u001b[49m\u001b[43mother\u001b[49m\u001b[43m)\u001b[49m\n",
      "File \u001b[1;32mc:\\Users\\karin\\AppData\\Local\\Programs\\Python\\Python39\\lib\\site-packages\\cvxpy\\atoms\\affine\\binary_operators.py:53\u001b[0m, in \u001b[0;36mBinaryOperator.__init__\u001b[1;34m(self, lh_exp, rh_exp)\u001b[0m\n\u001b[0;32m     52\u001b[0m \u001b[38;5;28;01mdef\u001b[39;00m \u001b[38;5;21m__init__\u001b[39m(\u001b[38;5;28mself\u001b[39m, lh_exp, rh_exp) \u001b[38;5;241m-\u001b[39m\u001b[38;5;241m>\u001b[39m \u001b[38;5;28;01mNone\u001b[39;00m:\n\u001b[1;32m---> 53\u001b[0m     \u001b[38;5;28;43msuper\u001b[39;49m\u001b[43m(\u001b[49m\u001b[43mBinaryOperator\u001b[49m\u001b[43m,\u001b[49m\u001b[43m \u001b[49m\u001b[38;5;28;43mself\u001b[39;49m\u001b[43m)\u001b[49m\u001b[38;5;241;43m.\u001b[39;49m\u001b[38;5;21;43m__init__\u001b[39;49m\u001b[43m(\u001b[49m\u001b[43mlh_exp\u001b[49m\u001b[43m,\u001b[49m\u001b[43m \u001b[49m\u001b[43mrh_exp\u001b[49m\u001b[43m)\u001b[49m\n",
      "File \u001b[1;32mc:\\Users\\karin\\AppData\\Local\\Programs\\Python\\Python39\\lib\\site-packages\\cvxpy\\atoms\\atom.py:51\u001b[0m, in \u001b[0;36mAtom.__init__\u001b[1;34m(self, *args)\u001b[0m\n\u001b[0;32m     49\u001b[0m \u001b[38;5;28mself\u001b[39m\u001b[38;5;241m.\u001b[39margs \u001b[38;5;241m=\u001b[39m [Atom\u001b[38;5;241m.\u001b[39mcast_to_const(arg) \u001b[38;5;28;01mfor\u001b[39;00m arg \u001b[38;5;129;01min\u001b[39;00m args]\n\u001b[0;32m     50\u001b[0m \u001b[38;5;28mself\u001b[39m\u001b[38;5;241m.\u001b[39mvalidate_arguments()\n\u001b[1;32m---> 51\u001b[0m \u001b[38;5;28mself\u001b[39m\u001b[38;5;241m.\u001b[39m_shape \u001b[38;5;241m=\u001b[39m \u001b[38;5;28;43mself\u001b[39;49m\u001b[38;5;241;43m.\u001b[39;49m\u001b[43mshape_from_args\u001b[49m\u001b[43m(\u001b[49m\u001b[43m)\u001b[49m\n\u001b[0;32m     52\u001b[0m \u001b[38;5;28;01mif\u001b[39;00m \u001b[38;5;28mlen\u001b[39m(\u001b[38;5;28mself\u001b[39m\u001b[38;5;241m.\u001b[39m_shape) \u001b[38;5;241m>\u001b[39m \u001b[38;5;241m2\u001b[39m:\n\u001b[0;32m     53\u001b[0m     \u001b[38;5;28;01mraise\u001b[39;00m \u001b[38;5;167;01mValueError\u001b[39;00m(\u001b[38;5;124m\"\u001b[39m\u001b[38;5;124mAtoms must be at most 2D.\u001b[39m\u001b[38;5;124m\"\u001b[39m)\n",
      "File \u001b[1;32mc:\\Users\\karin\\AppData\\Local\\Programs\\Python\\Python39\\lib\\site-packages\\cvxpy\\atoms\\affine\\binary_operators.py:123\u001b[0m, in \u001b[0;36mMulExpression.shape_from_args\u001b[1;34m(self)\u001b[0m\n\u001b[0;32m    120\u001b[0m \u001b[38;5;28;01mdef\u001b[39;00m \u001b[38;5;21mshape_from_args\u001b[39m(\u001b[38;5;28mself\u001b[39m) \u001b[38;5;241m-\u001b[39m\u001b[38;5;241m>\u001b[39m Tuple[\u001b[38;5;28mint\u001b[39m, \u001b[38;5;241m.\u001b[39m\u001b[38;5;241m.\u001b[39m\u001b[38;5;241m.\u001b[39m]:\n\u001b[0;32m    121\u001b[0m \u001b[38;5;250m    \u001b[39m\u001b[38;5;124;03m\"\"\"Returns the (row, col) shape of the expression.\u001b[39;00m\n\u001b[0;32m    122\u001b[0m \u001b[38;5;124;03m    \"\"\"\u001b[39;00m\n\u001b[1;32m--> 123\u001b[0m     \u001b[38;5;28;01mreturn\u001b[39;00m \u001b[43mu\u001b[49m\u001b[38;5;241;43m.\u001b[39;49m\u001b[43mshape\u001b[49m\u001b[38;5;241;43m.\u001b[39;49m\u001b[43mmul_shapes\u001b[49m\u001b[43m(\u001b[49m\u001b[38;5;28;43mself\u001b[39;49m\u001b[38;5;241;43m.\u001b[39;49m\u001b[43margs\u001b[49m\u001b[43m[\u001b[49m\u001b[38;5;241;43m0\u001b[39;49m\u001b[43m]\u001b[49m\u001b[38;5;241;43m.\u001b[39;49m\u001b[43mshape\u001b[49m\u001b[43m,\u001b[49m\u001b[43m \u001b[49m\u001b[38;5;28;43mself\u001b[39;49m\u001b[38;5;241;43m.\u001b[39;49m\u001b[43margs\u001b[49m\u001b[43m[\u001b[49m\u001b[38;5;241;43m1\u001b[39;49m\u001b[43m]\u001b[49m\u001b[38;5;241;43m.\u001b[39;49m\u001b[43mshape\u001b[49m\u001b[43m)\u001b[49m\n",
      "File \u001b[1;32mc:\\Users\\karin\\AppData\\Local\\Programs\\Python\\Python39\\lib\\site-packages\\cvxpy\\utilities\\shape.py:144\u001b[0m, in \u001b[0;36mmul_shapes\u001b[1;34m(lh_shape, rh_shape)\u001b[0m\n\u001b[0;32m    142\u001b[0m lh_old \u001b[38;5;241m=\u001b[39m lh_shape\n\u001b[0;32m    143\u001b[0m rh_old \u001b[38;5;241m=\u001b[39m rh_shape\n\u001b[1;32m--> 144\u001b[0m lh_shape, rh_shape, shape \u001b[38;5;241m=\u001b[39m \u001b[43mmul_shapes_promote\u001b[49m\u001b[43m(\u001b[49m\u001b[43mlh_shape\u001b[49m\u001b[43m,\u001b[49m\u001b[43m \u001b[49m\u001b[43mrh_shape\u001b[49m\u001b[43m)\u001b[49m\n\u001b[0;32m    145\u001b[0m \u001b[38;5;28;01mif\u001b[39;00m lh_shape \u001b[38;5;241m!=\u001b[39m lh_old:\n\u001b[0;32m    146\u001b[0m     shape \u001b[38;5;241m=\u001b[39m shape[\u001b[38;5;241m1\u001b[39m:]\n",
      "File \u001b[1;32mc:\\Users\\karin\\AppData\\Local\\Programs\\Python\\Python39\\lib\\site-packages\\cvxpy\\utilities\\shape.py:110\u001b[0m, in \u001b[0;36mmul_shapes_promote\u001b[1;34m(lh_shape, rh_shape)\u001b[0m\n\u001b[0;32m    108\u001b[0m rh_mat_shape \u001b[38;5;241m=\u001b[39m rh_shape[\u001b[38;5;241m-\u001b[39m\u001b[38;5;241m2\u001b[39m:]\n\u001b[0;32m    109\u001b[0m \u001b[38;5;28;01mif\u001b[39;00m lh_mat_shape[\u001b[38;5;241m1\u001b[39m] \u001b[38;5;241m!=\u001b[39m rh_mat_shape[\u001b[38;5;241m0\u001b[39m]:\n\u001b[1;32m--> 110\u001b[0m     \u001b[38;5;28;01mraise\u001b[39;00m \u001b[38;5;167;01mValueError\u001b[39;00m(\u001b[38;5;124m\"\u001b[39m\u001b[38;5;124mIncompatible dimensions \u001b[39m\u001b[38;5;132;01m%s\u001b[39;00m\u001b[38;5;124m \u001b[39m\u001b[38;5;132;01m%s\u001b[39;00m\u001b[38;5;124m\"\u001b[39m \u001b[38;5;241m%\u001b[39m (\n\u001b[0;32m    111\u001b[0m         lh_shape, rh_shape))\n\u001b[0;32m    112\u001b[0m \u001b[38;5;28;01mif\u001b[39;00m lh_shape[:\u001b[38;5;241m-\u001b[39m\u001b[38;5;241m2\u001b[39m] \u001b[38;5;241m!=\u001b[39m rh_shape[:\u001b[38;5;241m-\u001b[39m\u001b[38;5;241m2\u001b[39m]:\n\u001b[0;32m    113\u001b[0m     \u001b[38;5;28;01mraise\u001b[39;00m \u001b[38;5;167;01mValueError\u001b[39;00m(\u001b[38;5;124m\"\u001b[39m\u001b[38;5;124mIncompatible dimensions \u001b[39m\u001b[38;5;132;01m%s\u001b[39;00m\u001b[38;5;124m \u001b[39m\u001b[38;5;132;01m%s\u001b[39;00m\u001b[38;5;124m\"\u001b[39m \u001b[38;5;241m%\u001b[39m (\n\u001b[0;32m    114\u001b[0m         lh_shape, rh_shape))\n",
      "\u001b[1;31mValueError\u001b[0m: Incompatible dimensions (1, 20) (30, 20)"
     ]
    }
   ],
   "source": [
    "f = x.T*A*x + b.T*x + c"
   ]
  },
  {
   "cell_type": "code",
   "execution_count": 21,
   "metadata": {},
   "outputs": [
    {
     "name": "stdout",
     "output_type": "stream",
     "text": [
      "[-1.79109255e-19  2.85112420e-02  2.79973443e-19  3.37658729e-20\n",
      " -2.72802663e-19  1.49285011e-01 -9.94082533e-20  8.35373900e-20\n",
      "  2.46718649e-01  5.78224144e-01 -4.03739463e-19  1.01242860e-03\n",
      " -9.28486180e-20  2.26767464e-01 -1.58813678e-19 -8.97232272e-20\n",
      " -1.22145729e-19 -1.51509428e-19  1.12060672e-19 -3.48318635e-19]\n",
      "[ 2.50938945  0.          2.78354615  1.79425782 13.08579183  0.\n",
      "  0.73716363  3.35344995  0.          0.          8.93825054  0.\n",
      "  7.02955161  0.          4.71068649  3.18873635  2.06090107 10.08166738\n",
      "  3.0481157   8.53268239]\n"
     ]
    }
   ],
   "source": [
    "import cvxpy as cp\n",
    "import numpy as np\n",
    "\n",
    "# Problem data.\n",
    "m = 30\n",
    "n = 20\n",
    "np.random.seed(1)\n",
    "A = np.random.randn(m, n)\n",
    "b = np.random.randn(m)\n",
    "\n",
    "# Construct the problem.\n",
    "x = cp.Variable(n)\n",
    "objective = cp.Minimize(cp.sum_squares(A @ x - b))\n",
    "constraints = [0 <= x, x <= 10]\n",
    "prob = cp.Problem(objective, constraints)\n",
    "\n",
    "result = prob.solve()\n",
    "\n",
    "print(x.value)\n",
    "print(constraints[0].dual_value)"
   ]
  },
  {
   "cell_type": "code",
   "execution_count": null,
   "metadata": {},
   "outputs": [],
   "source": []
  },
  {
   "cell_type": "code",
   "execution_count": null,
   "metadata": {},
   "outputs": [],
   "source": [
    "d"
   ]
  },
  {
   "cell_type": "code",
   "execution_count": 22,
   "metadata": {},
   "outputs": [
    {
     "name": "stdout",
     "output_type": "stream",
     "text": [
      "Positive definite matrix:\n",
      "[[0.51801047 0.50328441 0.57672306]\n",
      " [0.50328441 1.17207541 0.60622443]\n",
      " [0.57672306 0.60622443 0.75546569]]\n"
     ]
    }
   ],
   "source": [
    "import numpy as np\n",
    "\n",
    "# Generate a random positive definite matrix\n",
    "n = 3  # Size of the matrix\n",
    "A = np.random.rand(n, n)\n",
    "A = np.dot(A, A.T)\n",
    "\n",
    "print(\"Positive definite matrix:\")\n",
    "print(A)\n"
   ]
  }
 ],
 "metadata": {
  "kernelspec": {
   "display_name": "Python 3",
   "language": "python",
   "name": "python3"
  },
  "language_info": {
   "codemirror_mode": {
    "name": "ipython",
    "version": 3
   },
   "file_extension": ".py",
   "mimetype": "text/x-python",
   "name": "python",
   "nbconvert_exporter": "python",
   "pygments_lexer": "ipython3",
   "version": "3.9.0"
  }
 },
 "nbformat": 4,
 "nbformat_minor": 2
}
